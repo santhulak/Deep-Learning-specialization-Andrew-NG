{
 "cells": [
  {
   "cell_type": "code",
   "execution_count": 1,
   "id": "f1d57513",
   "metadata": {},
   "outputs": [],
   "source": [
    "import numpy as np"
   ]
  },
  {
   "cell_type": "code",
   "execution_count": 2,
   "id": "61530e15",
   "metadata": {},
   "outputs": [
    {
     "data": {
      "text/plain": [
       "array([ 0.20857469, -0.30992279, -1.38182883,  0.00620179, -0.98516526])"
      ]
     },
     "execution_count": 2,
     "metadata": {},
     "output_type": "execute_result"
    }
   ],
   "source": [
    "a = np.random.randn(5)\n",
    "a"
   ]
  },
  {
   "cell_type": "code",
   "execution_count": 3,
   "id": "4e93187b",
   "metadata": {},
   "outputs": [
    {
     "data": {
      "text/plain": [
       "(5,)"
      ]
     },
     "execution_count": 3,
     "metadata": {},
     "output_type": "execute_result"
    }
   ],
   "source": [
    "#Rank 1 array- \n",
    "a.shape"
   ]
  },
  {
   "cell_type": "code",
   "execution_count": 4,
   "id": "38c7a932",
   "metadata": {},
   "outputs": [
    {
     "data": {
      "text/plain": [
       "array([ 0.20857469, -0.30992279, -1.38182883,  0.00620179, -0.98516526])"
      ]
     },
     "execution_count": 4,
     "metadata": {},
     "output_type": "execute_result"
    }
   ],
   "source": [
    "a.T"
   ]
  },
  {
   "cell_type": "code",
   "execution_count": 5,
   "id": "0fc87486",
   "metadata": {},
   "outputs": [
    {
     "data": {
      "text/plain": [
       "3.019595517230448"
      ]
     },
     "execution_count": 5,
     "metadata": {},
     "output_type": "execute_result"
    }
   ],
   "source": [
    "np.dot(a,a.T)"
   ]
  },
  {
   "cell_type": "code",
   "execution_count": 6,
   "id": "a433bb59",
   "metadata": {},
   "outputs": [
    {
     "data": {
      "text/plain": [
       "array([[ 0.31013262],\n",
       "       [-0.14748188],\n",
       "       [-0.02891613],\n",
       "       [-0.87456624],\n",
       "       [ 0.0464    ]])"
      ]
     },
     "execution_count": 6,
     "metadata": {},
     "output_type": "execute_result"
    }
   ],
   "source": [
    "#Redo the same process\n",
    "a = np.random.randn(5,1)\n",
    "a"
   ]
  },
  {
   "cell_type": "code",
   "execution_count": 7,
   "id": "57eddd6e",
   "metadata": {},
   "outputs": [
    {
     "data": {
      "text/plain": [
       "(5, 1)"
      ]
     },
     "execution_count": 7,
     "metadata": {},
     "output_type": "execute_result"
    }
   ],
   "source": [
    "a.shape"
   ]
  },
  {
   "cell_type": "code",
   "execution_count": 8,
   "id": "295d0393",
   "metadata": {},
   "outputs": [
    {
     "data": {
      "text/plain": [
       "array([[ 0.31013262, -0.14748188, -0.02891613, -0.87456624,  0.0464    ]])"
      ]
     },
     "execution_count": 8,
     "metadata": {},
     "output_type": "execute_result"
    }
   ],
   "source": [
    "a.T"
   ]
  },
  {
   "cell_type": "code",
   "execution_count": 9,
   "id": "4745737d",
   "metadata": {},
   "outputs": [
    {
     "data": {
      "text/plain": [
       "array([[ 0.09618224, -0.04573894, -0.00896784, -0.27123152,  0.01439015],\n",
       "       [-0.04573894,  0.0217509 ,  0.00426461,  0.12898267, -0.00684316],\n",
       "       [-0.00896784,  0.00426461,  0.00083614,  0.02528907, -0.00134171],\n",
       "       [-0.27123152,  0.12898267,  0.02528907,  0.7648661 , -0.04057987],\n",
       "       [ 0.01439015, -0.00684316, -0.00134171, -0.04057987,  0.00215296]])"
      ]
     },
     "execution_count": 9,
     "metadata": {},
     "output_type": "execute_result"
    }
   ],
   "source": [
    "np.dot(a,a.T)"
   ]
  },
  {
   "cell_type": "code",
   "execution_count": 10,
   "id": "0775411e",
   "metadata": {},
   "outputs": [],
   "source": [
    "a= np.random.randn(1,5)"
   ]
  },
  {
   "cell_type": "raw",
   "id": "8d2389be",
   "metadata": {},
   "source": [
    "assert(a.shape == (5,1))"
   ]
  },
  {
   "cell_type": "code",
   "execution_count": 11,
   "id": "9e8403f0",
   "metadata": {},
   "outputs": [
    {
     "data": {
      "text/plain": [
       "array([[0.60370484],\n",
       "       [0.65801223],\n",
       "       [0.10442283],\n",
       "       [0.47635992],\n",
       "       [0.79200477],\n",
       "       [0.93258525],\n",
       "       [0.89520137],\n",
       "       [0.9558125 ]])"
      ]
     },
     "execution_count": 11,
     "metadata": {},
     "output_type": "execute_result"
    }
   ],
   "source": [
    "a= np.random.rand(8,1)\n",
    "a"
   ]
  },
  {
   "cell_type": "code",
   "execution_count": 12,
   "id": "f020858c",
   "metadata": {},
   "outputs": [
    {
     "data": {
      "text/plain": [
       "(8, 1)"
      ]
     },
     "execution_count": 12,
     "metadata": {},
     "output_type": "execute_result"
    }
   ],
   "source": [
    "a.shape"
   ]
  },
  {
   "cell_type": "code",
   "execution_count": 17,
   "id": "bf607364",
   "metadata": {},
   "outputs": [
    {
     "data": {
      "text/plain": [
       "array([[[0.60370484, 0.65801223],\n",
       "        [0.10442283, 0.47635992]],\n",
       "\n",
       "       [[0.79200477, 0.93258525],\n",
       "        [0.89520137, 0.9558125 ]]])"
      ]
     },
     "execution_count": 17,
     "metadata": {},
     "output_type": "execute_result"
    }
   ],
   "source": [
    "a.reshape(2,2,2)"
   ]
  },
  {
   "cell_type": "code",
   "execution_count": 28,
   "id": "a8c347de",
   "metadata": {},
   "outputs": [
    {
     "name": "stdout",
     "output_type": "stream",
     "text": [
      "[[ 2.14011283 -0.09480043  0.17866181]\n",
      " [ 0.56072648  0.27120007  0.7188124 ]]\n",
      "[[0.68788571]\n",
      " [0.34777233]]\n"
     ]
    }
   ],
   "source": [
    "#Consider the following random arrays aa and bb, and cc:\n",
    "\n",
    "a=np.random.randn(2, 3)\n",
    "\n",
    "b=np.random.randn(2,1) \n",
    "print(a)\n",
    "print(b)"
   ]
  },
  {
   "cell_type": "code",
   "execution_count": 30,
   "id": "93244a2a",
   "metadata": {},
   "outputs": [
    {
     "data": {
      "text/plain": [
       "(2, 3)"
      ]
     },
     "execution_count": 30,
     "metadata": {},
     "output_type": "execute_result"
    }
   ],
   "source": [
    "c= a+b\n",
    "c.shape"
   ]
  },
  {
   "cell_type": "code",
   "execution_count": 21,
   "id": "23a1b9bc",
   "metadata": {},
   "outputs": [
    {
     "name": "stdout",
     "output_type": "stream",
     "text": [
      "[[-1.76157842  0.31310149  0.2147055 ]\n",
      " [ 0.48332431  1.70077928  0.43781702]\n",
      " [-0.80634787  0.42608085  1.0561017 ]\n",
      " [ 1.24242421  1.47888644 -1.67140801]]\n",
      "[[-0.66969297 -0.06027089]\n",
      " [ 0.33180829  0.50424106]\n",
      " [ 1.25819963  1.36833951]]\n"
     ]
    }
   ],
   "source": [
    "#Consider the two following random arrays aa and bb:\n",
    "    \n",
    "a=np.random.randn(4,3) \n",
    "\n",
    "b = np.random.randn(3, 2)\n",
    "\n",
    "print(a)\n",
    "\n",
    "print(b)"
   ]
  },
  {
   "cell_type": "code",
   "execution_count": 24,
   "id": "73a648fa",
   "metadata": {},
   "outputs": [
    {
     "ename": "ValueError",
     "evalue": "operands could not be broadcast together with shapes (4,3) (3,2) ",
     "output_type": "error",
     "traceback": [
      "\u001b[1;31m---------------------------------------------------------------------------\u001b[0m",
      "\u001b[1;31mValueError\u001b[0m                                Traceback (most recent call last)",
      "Cell \u001b[1;32mIn[24], line 1\u001b[0m\n\u001b[1;32m----> 1\u001b[0m c \u001b[38;5;241m=\u001b[39m \u001b[43ma\u001b[49m\u001b[38;5;241;43m*\u001b[39;49m\u001b[43mb\u001b[49m\n\u001b[0;32m      2\u001b[0m c\u001b[38;5;241m.\u001b[39mshape\n",
      "\u001b[1;31mValueError\u001b[0m: operands could not be broadcast together with shapes (4,3) (3,2) "
     ]
    }
   ],
   "source": [
    "c = a*b\n",
    "c.shape"
   ]
  },
  {
   "cell_type": "code",
   "execution_count": 34,
   "id": "a81c3aac",
   "metadata": {},
   "outputs": [
    {
     "data": {
      "text/plain": [
       "(3, 4)"
      ]
     },
     "execution_count": 34,
     "metadata": {},
     "output_type": "execute_result"
    }
   ],
   "source": [
    "a=np.random.randn(3,4) \n",
    "\n",
    "b = np.random.randn(1,4)\n",
    "c= a+b\n",
    "c.shape"
   ]
  },
  {
   "cell_type": "code",
   "execution_count": 35,
   "id": "05819421",
   "metadata": {},
   "outputs": [
    {
     "data": {
      "text/plain": [
       "(4, 3)"
      ]
     },
     "execution_count": 35,
     "metadata": {},
     "output_type": "execute_result"
    }
   ],
   "source": [
    "a=np.random.randn(4,3) \n",
    "\n",
    "b = np.random.randn(1,3)\n",
    "c= a*b\n",
    "c.shape"
   ]
  },
  {
   "cell_type": "code",
   "execution_count": 26,
   "id": "6793fd37",
   "metadata": {},
   "outputs": [
    {
     "name": "stdout",
     "output_type": "stream",
     "text": [
      "[[  6.98752377   5.79613037  -7.51439918 ... -11.87110729  -8.19566523\n",
      "   17.17694181]\n",
      " [ 21.09261146  11.61237404  15.92730901 ...  20.7093983  -13.21341252\n",
      "  -16.60606025]\n",
      " [ 14.22986942  -2.26062088  11.11901563 ...  -6.60812844   8.61279406\n",
      "   16.85721172]\n",
      " ...\n",
      " [ 17.44241335  15.35430364   6.4314354  ...   3.56618891 -28.70899124\n",
      "  -10.95049246]\n",
      " [  9.11349297 -10.99995245 -11.26131153 ...   1.09328249 -22.29691007\n",
      "    0.73283824]\n",
      " [ -5.18440335 -20.24198252  -5.11521097 ...  14.86491022  11.52190172\n",
      "   -3.35876438]]\n",
      "(12288, 45)\n"
     ]
    }
   ],
   "source": [
    "a=np.random.randn(12288,150) \n",
    "b=np.random.randn(150,45) \n",
    "\n",
    "c=np.dot(a,b) \n",
    "print(c)\n",
    "print(c.shape)"
   ]
  },
  {
   "cell_type": "code",
   "execution_count": 27,
   "id": "94323316",
   "metadata": {},
   "outputs": [
    {
     "data": {
      "text/plain": [
       "array([[3, 3],\n",
       "       [4, 2]])"
      ]
     },
     "execution_count": 27,
     "metadata": {},
     "output_type": "execute_result"
    }
   ],
   "source": [
    "a = np.array([[1,1],[1,-1]])\n",
    "b = np.array([[2],[3]])\n",
    "c=a+b\n",
    "c"
   ]
  },
  {
   "cell_type": "code",
   "execution_count": 31,
   "id": "a48f7443",
   "metadata": {},
   "outputs": [
    {
     "data": {
      "text/plain": [
       "array([[4, 1],\n",
       "       [1, 9]])"
      ]
     },
     "execution_count": 31,
     "metadata": {},
     "output_type": "execute_result"
    }
   ],
   "source": [
    "a = np.array([[2,1],[1,3]])\n",
    "a*a"
   ]
  },
  {
   "cell_type": "markdown",
   "id": "451fa5ab",
   "metadata": {},
   "source": [
    "## Observation: \n",
    "### Do not use Rank 1 array\n",
    "### use reshape operation to change the reshape Rank 1 array"
   ]
  },
  {
   "cell_type": "code",
   "execution_count": 2,
   "id": "d84b90ef",
   "metadata": {},
   "outputs": [],
   "source": [
    "import numpy as np\n",
    "x = np.random.rand(3, 2)\n",
    "\n",
    "y = np.sum(x, axis=0, keepdims=True)"
   ]
  },
  {
   "cell_type": "code",
   "execution_count": 3,
   "id": "4c082ac7",
   "metadata": {},
   "outputs": [
    {
     "data": {
      "text/plain": [
       "(1, 2)"
      ]
     },
     "execution_count": 3,
     "metadata": {},
     "output_type": "execute_result"
    }
   ],
   "source": [
    "y.shape"
   ]
  },
  {
   "cell_type": "code",
   "execution_count": 4,
   "id": "e51d8c9f",
   "metadata": {},
   "outputs": [
    {
     "data": {
      "text/plain": [
       "array([[0.82555678, 0.47779224],\n",
       "       [0.65933949, 0.97372289],\n",
       "       [0.59137886, 0.71112656]])"
      ]
     },
     "execution_count": 4,
     "metadata": {},
     "output_type": "execute_result"
    }
   ],
   "source": [
    "x"
   ]
  },
  {
   "cell_type": "code",
   "execution_count": 5,
   "id": "4b6bfe3a",
   "metadata": {},
   "outputs": [
    {
     "data": {
      "text/plain": [
       "array([[2.07627512, 2.16264169]])"
      ]
     },
     "execution_count": 5,
     "metadata": {},
     "output_type": "execute_result"
    }
   ],
   "source": [
    "y"
   ]
  },
  {
   "cell_type": "code",
   "execution_count": 6,
   "id": "05de1a07",
   "metadata": {},
   "outputs": [],
   "source": [
    "x = np.random.rand(4,5)\n",
    "\n",
    "y = np.sum(x, axis=0,)"
   ]
  },
  {
   "cell_type": "code",
   "execution_count": 7,
   "id": "2fd55ef4",
   "metadata": {},
   "outputs": [
    {
     "data": {
      "text/plain": [
       "(5,)"
      ]
     },
     "execution_count": 7,
     "metadata": {},
     "output_type": "execute_result"
    }
   ],
   "source": [
    "y.shape"
   ]
  },
  {
   "cell_type": "code",
   "execution_count": null,
   "id": "18380274",
   "metadata": {},
   "outputs": [],
   "source": []
  }
 ],
 "metadata": {
  "kernelspec": {
   "display_name": "Python 3 (ipykernel)",
   "language": "python",
   "name": "python3"
  },
  "language_info": {
   "codemirror_mode": {
    "name": "ipython",
    "version": 3
   },
   "file_extension": ".py",
   "mimetype": "text/x-python",
   "name": "python",
   "nbconvert_exporter": "python",
   "pygments_lexer": "ipython3",
   "version": "3.11.0"
  }
 },
 "nbformat": 4,
 "nbformat_minor": 5
}
